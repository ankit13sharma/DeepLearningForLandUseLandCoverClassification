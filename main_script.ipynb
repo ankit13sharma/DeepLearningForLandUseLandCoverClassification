{
 "cells": [
  {
   "cell_type": "markdown",
   "metadata": {},
   "source": [
    "#                           Land Use - Land Cover Classification"
   ]
  },
  {
   "cell_type": "code",
   "execution_count": 1,
   "metadata": {},
   "outputs": [
    {
     "name": "stderr",
     "output_type": "stream",
     "text": [
      "Using TensorFlow backend.\n",
      "WARNING: Logging before flag parsing goes to stderr.\n",
      "W0612 05:38:44.630201 17300 deprecation_wrapper.py:119] From F:\\Github\\DeepLearningForLandUseLandCoverClassification\\train.py:29: The name tf.keras.layers.CuDNNGRU is deprecated. Please use tf.compat.v1.keras.layers.CuDNNGRU instead.\n",
      "\n",
      "W0612 05:38:44.632234 17300 deprecation_wrapper.py:119] From F:\\Github\\DeepLearningForLandUseLandCoverClassification\\train.py:29: The name tf.keras.layers.CuDNNLSTM is deprecated. Please use tf.compat.v1.keras.layers.CuDNNLSTM instead.\n",
      "\n"
     ]
    }
   ],
   "source": [
    "from sklearn.model_selection import train_test_split\n",
    "import utils\n",
    "import train\n",
    "import predict\n",
    "from tensorflow.keras import backend as K\n",
    "from tensorflow.keras.models import load_model\n",
    "import numpy as np\n",
    "from osgeo import gdal\n",
    "from matplotlib import pyplot as plt\n",
    "import cv2 as cv\n",
    "from tensorflow.keras.utils import to_categorical"
   ]
  },
  {
   "cell_type": "code",
   "execution_count": 2,
   "metadata": {},
   "outputs": [],
   "source": [
    "%load_ext autoreload\n",
    "%autoreload 2"
   ]
  },
  {
   "cell_type": "code",
   "execution_count": 3,
   "metadata": {},
   "outputs": [],
   "source": [
    "K.clear_session()"
   ]
  },
  {
   "cell_type": "markdown",
   "metadata": {},
   "source": [
    "## Data Preparation"
   ]
  },
  {
   "cell_type": "code",
   "execution_count": 18,
   "metadata": {},
   "outputs": [
    {
     "name": "stdout",
     "output_type": "stream",
     "text": [
      "Train\n",
      "image: 0, number of tiles: 441\n",
      "image: 1, number of tiles: 441\n",
      "Val\n",
      "image: 0, number of tiles: 441\n",
      "Test\n",
      "image: 0, number of tiles: 441\n"
     ]
    }
   ],
   "source": [
    "ipath_train = utils.get_all_images(\"./images/train/img\", \"tif\")\n",
    "cpath_train = utils.get_all_images(\"./images/train/mask\", \"tif\")\n",
    "ipath_dev = utils.get_all_images(\"./images/dev/img\", \"tif\")\n",
    "cpath_dev = utils.get_all_images(\"./images/dev/mask\", \"tif\")\n",
    "ipath_test = utils.get_all_images(\"./images/test/img\", \"tif\")\n",
    "cpath_test = utils.get_all_images(\"./images/test/mask\", \"tif\")\n",
    "\n",
    "print(\"Train\")\n",
    "img_id_train,tile_id_train,y_coord_train,x_coord_train = train.fetch_tiles_info(ipath_train)\n",
    "img_id_train,tile_id_train,y_coord_train,x_coord_train = utils.shuffle_list(img_id_train,tile_id_train,y_coord_train,x_coord_train)\n",
    "\n",
    "print(\"Val\")\n",
    "img_id_dev,tile_id_dev,y_coord_dev,x_coord_dev = train.fetch_tiles_info(ipath_dev)\n",
    "img_id_dev,tile_id_dev,y_coord_dev,x_coord_dev = utils.shuffle_list(img_id_dev,tile_id_dev,y_coord_dev,x_coord_dev)\n",
    "\n",
    "print(\"Test\")\n",
    "img_id_test,tile_id_test,y_coord_test,x_coord_test = train.fetch_tiles_info(ipath_test)\n",
    "img_id_test,tile_id_test,y_coord_test,x_coord_test = utils.shuffle_list(img_id_test,tile_id_test,y_coord_test,x_coord_test)"
   ]
  },
  {
   "cell_type": "code",
   "execution_count": 6,
   "metadata": {
    "scrolled": true
   },
   "outputs": [
    {
     "name": "stderr",
     "output_type": "stream",
     "text": [
      "c:\\python36\\lib\\site-packages\\keras_preprocessing\\image.py:1643: UserWarning: NumpyArrayIterator is set to use the data format convention \"channels_last\" (channels on axis 3), i.e. expected either 1, 3, or 4 channels on axis 3. However, it was passed an array with shape (64, 256, 256, 6) (6 channels).\n",
      "  str(self.x.shape[channels_axis]) + ' channels).')\n",
      "c:\\python36\\lib\\site-packages\\keras_preprocessing\\image.py:1643: UserWarning: NumpyArrayIterator is set to use the data format convention \"channels_last\" (channels on axis 3), i.e. expected either 1, 3, or 4 channels on axis 3. However, it was passed an array with shape (32, 256, 256, 6) (6 channels).\n",
      "  str(self.x.shape[channels_axis]) + ' channels).')\n"
     ]
    }
   ],
   "source": [
    "batch = 64\n",
    "val_batch = 32\n",
    "\n",
    "size = 256\n",
    "seed =140\n",
    "epoch =100\n",
    "lri = 1e-4\n",
    "steps_train = len(img_id_train)//batch\n",
    "steps_val = len(img_id_dev)//val_batch\n",
    "\n",
    "train_generator = train.msk_generator(ipath_train,cpath_train,img_id_train,tile_id_train,y_coord_train,x_coord_train, batch)\n",
    "val_generator = train.msk_generator(ipath_dev,cpath_dev,img_id_dev,tile_id_dev,y_coord_dev,x_coord_dev, val_batch)\n"
   ]
  },
  {
   "cell_type": "markdown",
   "metadata": {},
   "source": [
    "## Training"
   ]
  },
  {
   "cell_type": "code",
   "execution_count": 7,
   "metadata": {
    "scrolled": true
   },
   "outputs": [
    {
     "name": "stderr",
     "output_type": "stream",
     "text": [
      "W0612 05:38:52.266074 17300 callbacks.py:875] `period` argument is deprecated. Please use `save_freq` to specify the frequency in number of samples seen.\n"
     ]
    },
    {
     "name": "stdout",
     "output_type": "stream",
     "text": [
      "Model: \"model\"\n",
      "__________________________________________________________________________________________________\n",
      "Layer (type)                    Output Shape         Param #     Connected to                     \n",
      "==================================================================================================\n",
      "input_1 (InputLayer)            [(None, 256, 256, 6) 0                                            \n",
      "__________________________________________________________________________________________________\n",
      "conv2d (Conv2D)                 (None, 256, 256, 64) 3520        input_1[0][0]                    \n",
      "__________________________________________________________________________________________________\n",
      "conv2d_1 (Conv2D)               (None, 256, 256, 64) 36928       conv2d[0][0]                     \n",
      "__________________________________________________________________________________________________\n",
      "max_pooling2d (MaxPooling2D)    (None, 128, 128, 64) 0           conv2d_1[0][0]                   \n",
      "__________________________________________________________________________________________________\n",
      "conv2d_2 (Conv2D)               (None, 128, 128, 128 73856       max_pooling2d[0][0]              \n",
      "__________________________________________________________________________________________________\n",
      "conv2d_3 (Conv2D)               (None, 128, 128, 128 147584      conv2d_2[0][0]                   \n",
      "__________________________________________________________________________________________________\n",
      "max_pooling2d_1 (MaxPooling2D)  (None, 64, 64, 128)  0           conv2d_3[0][0]                   \n",
      "__________________________________________________________________________________________________\n",
      "conv2d_4 (Conv2D)               (None, 64, 64, 256)  295168      max_pooling2d_1[0][0]            \n",
      "__________________________________________________________________________________________________\n",
      "conv2d_5 (Conv2D)               (None, 64, 64, 256)  590080      conv2d_4[0][0]                   \n",
      "__________________________________________________________________________________________________\n",
      "max_pooling2d_2 (MaxPooling2D)  (None, 32, 32, 256)  0           conv2d_5[0][0]                   \n",
      "__________________________________________________________________________________________________\n",
      "conv2d_6 (Conv2D)               (None, 32, 32, 512)  1180160     max_pooling2d_2[0][0]            \n",
      "__________________________________________________________________________________________________\n",
      "conv2d_7 (Conv2D)               (None, 32, 32, 512)  2359808     conv2d_6[0][0]                   \n",
      "__________________________________________________________________________________________________\n",
      "dropout (Dropout)               (None, 32, 32, 512)  0           conv2d_7[0][0]                   \n",
      "__________________________________________________________________________________________________\n",
      "max_pooling2d_3 (MaxPooling2D)  (None, 16, 16, 512)  0           dropout[0][0]                    \n",
      "__________________________________________________________________________________________________\n",
      "conv2d_8 (Conv2D)               (None, 16, 16, 1024) 4719616     max_pooling2d_3[0][0]            \n",
      "__________________________________________________________________________________________________\n",
      "conv2d_9 (Conv2D)               (None, 16, 16, 1024) 9438208     conv2d_8[0][0]                   \n",
      "__________________________________________________________________________________________________\n",
      "dropout_1 (Dropout)             (None, 16, 16, 1024) 0           conv2d_9[0][0]                   \n",
      "__________________________________________________________________________________________________\n",
      "up_sampling2d (UpSampling2D)    (None, 32, 32, 1024) 0           dropout_1[0][0]                  \n",
      "__________________________________________________________________________________________________\n",
      "conv2d_10 (Conv2D)              (None, 32, 32, 512)  2097664     up_sampling2d[0][0]              \n",
      "__________________________________________________________________________________________________\n",
      "concatenate (Concatenate)       (None, 32, 32, 1024) 0           dropout[0][0]                    \n",
      "                                                                 conv2d_10[0][0]                  \n",
      "__________________________________________________________________________________________________\n",
      "conv2d_11 (Conv2D)              (None, 32, 32, 512)  4719104     concatenate[0][0]                \n",
      "__________________________________________________________________________________________________\n",
      "conv2d_12 (Conv2D)              (None, 32, 32, 512)  2359808     conv2d_11[0][0]                  \n",
      "__________________________________________________________________________________________________\n",
      "up_sampling2d_1 (UpSampling2D)  (None, 64, 64, 512)  0           conv2d_12[0][0]                  \n",
      "__________________________________________________________________________________________________\n",
      "conv2d_13 (Conv2D)              (None, 64, 64, 256)  524544      up_sampling2d_1[0][0]            \n",
      "__________________________________________________________________________________________________\n",
      "concatenate_1 (Concatenate)     (None, 64, 64, 512)  0           conv2d_5[0][0]                   \n",
      "                                                                 conv2d_13[0][0]                  \n",
      "__________________________________________________________________________________________________\n",
      "conv2d_14 (Conv2D)              (None, 64, 64, 256)  1179904     concatenate_1[0][0]              \n",
      "__________________________________________________________________________________________________\n",
      "conv2d_15 (Conv2D)              (None, 64, 64, 256)  590080      conv2d_14[0][0]                  \n",
      "__________________________________________________________________________________________________\n",
      "up_sampling2d_2 (UpSampling2D)  (None, 128, 128, 256 0           conv2d_15[0][0]                  \n",
      "__________________________________________________________________________________________________\n",
      "conv2d_16 (Conv2D)              (None, 128, 128, 128 131200      up_sampling2d_2[0][0]            \n",
      "__________________________________________________________________________________________________\n",
      "concatenate_2 (Concatenate)     (None, 128, 128, 256 0           conv2d_3[0][0]                   \n",
      "                                                                 conv2d_16[0][0]                  \n",
      "__________________________________________________________________________________________________\n",
      "conv2d_17 (Conv2D)              (None, 128, 128, 128 295040      concatenate_2[0][0]              \n",
      "__________________________________________________________________________________________________\n",
      "conv2d_18 (Conv2D)              (None, 128, 128, 128 147584      conv2d_17[0][0]                  \n",
      "__________________________________________________________________________________________________\n",
      "up_sampling2d_3 (UpSampling2D)  (None, 256, 256, 128 0           conv2d_18[0][0]                  \n",
      "__________________________________________________________________________________________________\n",
      "conv2d_19 (Conv2D)              (None, 256, 256, 64) 32832       up_sampling2d_3[0][0]            \n",
      "__________________________________________________________________________________________________\n",
      "concatenate_3 (Concatenate)     (None, 256, 256, 128 0           conv2d_1[0][0]                   \n",
      "                                                                 conv2d_19[0][0]                  \n",
      "__________________________________________________________________________________________________\n",
      "conv2d_20 (Conv2D)              (None, 256, 256, 64) 73792       concatenate_3[0][0]              \n",
      "__________________________________________________________________________________________________\n",
      "conv2d_21 (Conv2D)              (None, 256, 256, 64) 36928       conv2d_20[0][0]                  \n",
      "__________________________________________________________________________________________________\n",
      "conv2d_22 (Conv2D)              (None, 256, 256, 4)  260         conv2d_21[0][0]                  \n",
      "==================================================================================================\n",
      "Total params: 31,033,668\n",
      "Trainable params: 31,033,668\n",
      "Non-trainable params: 0\n",
      "__________________________________________________________________________________________________\n"
     ]
    },
    {
     "name": "stderr",
     "output_type": "stream",
     "text": [
      "W0612 05:38:54.109685 17300 deprecation.py:323] From c:\\python36\\lib\\site-packages\\tensorflow\\python\\ops\\math_grad.py:1250: add_dispatch_support.<locals>.wrapper (from tensorflow.python.ops.array_ops) is deprecated and will be removed in a future version.\n",
      "Instructions for updating:\n",
      "Use tf.where in 2.0, which has the same broadcast rule as np.where\n"
     ]
    },
    {
     "name": "stdout",
     "output_type": "stream",
     "text": [
      "Epoch 1/100\n",
      "\n",
      "Epoch 00001: val_loss improved from inf to 3.72585, saving model to ./model_1.h5\n",
      "41/41 - 80s - loss: 3.8646 - iou: 0.1820 - dice: 1.0517 - val_loss: 3.7259 - val_iou: 0.1876 - val_dice: 1.0614\n",
      "Epoch 2/100\n",
      "\n",
      "Epoch 00002: val_loss improved from 3.72585 to 2.88584, saving model to ./model_1.h5\n",
      "41/41 - 59s - loss: 2.9495 - iou: 0.3051 - dice: 1.6190 - val_loss: 2.8858 - val_iou: 0.3185 - val_dice: 1.6520\n",
      "Epoch 3/100\n",
      "\n",
      "Epoch 00003: val_loss improved from 2.88584 to 2.62731, saving model to ./model_1.h5\n",
      "41/41 - 59s - loss: 2.2278 - iou: 0.4294 - dice: 2.1611 - val_loss: 2.6273 - val_iou: 0.3669 - val_dice: 1.8716\n",
      "Epoch 4/100\n",
      "\n",
      "Epoch 00004: val_loss improved from 2.62731 to 2.52039, saving model to ./model_1.h5\n",
      "41/41 - 59s - loss: 1.8293 - iou: 0.5144 - dice: 2.5250 - val_loss: 2.5204 - val_iou: 0.3907 - val_dice: 1.9634\n",
      "Epoch 5/100\n",
      "\n",
      "Epoch 00005: val_loss did not improve from 2.52039\n",
      "41/41 - 59s - loss: 1.8419 - iou: 0.5098 - dice: 2.4660 - val_loss: 2.6481 - val_iou: 0.3943 - val_dice: 2.0217\n",
      "Epoch 6/100\n",
      "\n",
      "Epoch 00006: val_loss improved from 2.52039 to 2.52021, saving model to ./model_1.h5\n",
      "41/41 - 59s - loss: 1.7683 - iou: 0.5285 - dice: 2.5779 - val_loss: 2.5202 - val_iou: 0.4080 - val_dice: 2.0385\n",
      "Epoch 7/100\n",
      "\n",
      "Epoch 00007: val_loss improved from 2.52021 to 2.43188, saving model to ./model_1.h5\n",
      "41/41 - 59s - loss: 1.7827 - iou: 0.5200 - dice: 2.5355 - val_loss: 2.4319 - val_iou: 0.3998 - val_dice: 2.0134\n",
      "Epoch 8/100\n",
      "\n",
      "Epoch 00008: val_loss improved from 2.43188 to 2.36911, saving model to ./model_1.h5\n",
      "41/41 - 59s - loss: 1.6162 - iou: 0.5553 - dice: 2.6747 - val_loss: 2.3691 - val_iou: 0.4329 - val_dice: 2.1782\n",
      "Epoch 9/100\n",
      "\n",
      "Epoch 00009: val_loss did not improve from 2.36911\n",
      "41/41 - 59s - loss: 1.6065 - iou: 0.5628 - dice: 2.7055 - val_loss: 2.6034 - val_iou: 0.3991 - val_dice: 2.0412\n",
      "Epoch 10/100\n",
      "\n",
      "Epoch 00010: val_loss improved from 2.36911 to 2.32807, saving model to ./model_1.h5\n",
      "41/41 - 60s - loss: 1.6273 - iou: 0.5488 - dice: 2.6383 - val_loss: 2.3281 - val_iou: 0.4311 - val_dice: 2.1581\n",
      "Epoch 11/100\n",
      "\n",
      "Epoch 00011: val_loss improved from 2.32807 to 2.05561, saving model to ./model_1.h5\n",
      "41/41 - 59s - loss: 1.6041 - iou: 0.5648 - dice: 2.7170 - val_loss: 2.0556 - val_iou: 0.4538 - val_dice: 2.2529\n",
      "Epoch 12/100\n",
      "\n",
      "Epoch 00012: val_loss did not improve from 2.05561\n",
      "41/41 - 59s - loss: 1.4194 - iou: 0.5979 - dice: 2.8412 - val_loss: 2.4574 - val_iou: 0.4340 - val_dice: 2.1700\n",
      "Epoch 13/100\n",
      "\n",
      "Epoch 00013: val_loss improved from 2.05561 to 2.04054, saving model to ./model_1.h5\n",
      "41/41 - 60s - loss: 1.5201 - iou: 0.5775 - dice: 2.7623 - val_loss: 2.0405 - val_iou: 0.4610 - val_dice: 2.2916\n",
      "Epoch 14/100\n",
      "\n",
      "Epoch 00014: val_loss did not improve from 2.04054\n",
      "41/41 - 59s - loss: 1.3847 - iou: 0.6055 - dice: 2.8608 - val_loss: 2.1983 - val_iou: 0.4426 - val_dice: 2.2178\n",
      "Epoch 15/100\n",
      "\n",
      "Epoch 00015: val_loss improved from 2.04054 to 1.93710, saving model to ./model_1.h5\n",
      "41/41 - 60s - loss: 1.3411 - iou: 0.6186 - dice: 2.9042 - val_loss: 1.9371 - val_iou: 0.4928 - val_dice: 2.4174\n",
      "Epoch 16/100\n",
      "\n",
      "Epoch 00016: val_loss did not improve from 1.93710\n",
      "41/41 - 59s - loss: 1.4546 - iou: 0.5876 - dice: 2.8026 - val_loss: 2.2422 - val_iou: 0.4485 - val_dice: 2.2313\n",
      "Epoch 17/100\n",
      "\n",
      "Epoch 00017: val_loss improved from 1.93710 to 1.88214, saving model to ./model_1.h5\n",
      "41/41 - 60s - loss: 1.3720 - iou: 0.6131 - dice: 2.9012 - val_loss: 1.8821 - val_iou: 0.4910 - val_dice: 2.4201\n",
      "Epoch 18/100\n",
      "\n",
      "Epoch 00018: val_loss improved from 1.88214 to 1.77281, saving model to ./model_1.h5\n",
      "41/41 - 59s - loss: 1.2558 - iou: 0.6375 - dice: 2.9873 - val_loss: 1.7728 - val_iou: 0.5117 - val_dice: 2.4897\n",
      "Epoch 19/100\n",
      "\n",
      "Epoch 00019: val_loss improved from 1.77281 to 1.72675, saving model to ./model_1.h5\n",
      "41/41 - 59s - loss: 1.4012 - iou: 0.5964 - dice: 2.8137 - val_loss: 1.7267 - val_iou: 0.5221 - val_dice: 2.5428\n",
      "Epoch 20/100\n",
      "\n",
      "Epoch 00020: val_loss did not improve from 1.72675\n",
      "41/41 - 59s - loss: 1.2709 - iou: 0.6340 - dice: 2.9834 - val_loss: 1.8916 - val_iou: 0.4914 - val_dice: 2.4010\n",
      "Epoch 21/100\n",
      "\n",
      "Epoch 00021: val_loss did not improve from 1.72675\n",
      "41/41 - 59s - loss: 1.3327 - iou: 0.6182 - dice: 2.9126 - val_loss: 1.7715 - val_iou: 0.5091 - val_dice: 2.4885\n",
      "Epoch 22/100\n",
      "\n",
      "Epoch 00022: val_loss improved from 1.72675 to 1.65120, saving model to ./model_1.h5\n",
      "41/41 - 59s - loss: 1.2442 - iou: 0.6384 - dice: 2.9792 - val_loss: 1.6512 - val_iou: 0.5410 - val_dice: 2.6213\n",
      "Epoch 23/100\n",
      "\n",
      "Epoch 00023: val_loss did not improve from 1.65120\n",
      "41/41 - 59s - loss: 1.2389 - iou: 0.6398 - dice: 2.9993 - val_loss: 1.8544 - val_iou: 0.5048 - val_dice: 2.4614\n",
      "Epoch 24/100\n",
      "\n",
      "Epoch 00024: val_loss did not improve from 1.65120\n",
      "41/41 - 59s - loss: 1.1993 - iou: 0.6530 - dice: 3.0217 - val_loss: 1.7024 - val_iou: 0.5350 - val_dice: 2.5578\n",
      "Epoch 25/100\n",
      "\n",
      "Epoch 00025: val_loss did not improve from 1.65120\n",
      "41/41 - 59s - loss: 1.2594 - iou: 0.6325 - dice: 2.9572 - val_loss: 1.7187 - val_iou: 0.5261 - val_dice: 2.5223\n",
      "Epoch 26/100\n",
      "\n",
      "Epoch 00026: val_loss did not improve from 1.65120\n",
      "41/41 - 59s - loss: 1.2822 - iou: 0.6322 - dice: 2.9454 - val_loss: 1.6640 - val_iou: 0.5398 - val_dice: 2.6447\n",
      "Epoch 27/100\n",
      "\n",
      "Epoch 00027: val_loss improved from 1.65120 to 1.57894, saving model to ./model_1.h5\n",
      "41/41 - 60s - loss: 1.1394 - iou: 0.6679 - dice: 3.1101 - val_loss: 1.5789 - val_iou: 0.5546 - val_dice: 2.6469\n",
      "Epoch 28/100\n",
      "\n",
      "Epoch 00028: val_loss did not improve from 1.57894\n",
      "41/41 - 59s - loss: 1.1943 - iou: 0.6482 - dice: 3.0202 - val_loss: 1.6606 - val_iou: 0.5386 - val_dice: 2.5919\n",
      "Epoch 29/100\n",
      "\n",
      "Epoch 00029: val_loss did not improve from 1.57894\n",
      "41/41 - 59s - loss: 1.2469 - iou: 0.6385 - dice: 2.9750 - val_loss: 1.6883 - val_iou: 0.5363 - val_dice: 2.5891\n",
      "Epoch 30/100\n",
      "\n",
      "Epoch 00030: val_loss did not improve from 1.57894\n",
      "41/41 - 59s - loss: 1.1496 - iou: 0.6652 - dice: 3.0585 - val_loss: 1.6204 - val_iou: 0.5481 - val_dice: 2.6177\n",
      "Epoch 31/100\n",
      "\n",
      "Epoch 00031: val_loss did not improve from 1.57894\n",
      "41/41 - 59s - loss: 1.1670 - iou: 0.6567 - dice: 3.0489 - val_loss: 1.6413 - val_iou: 0.5471 - val_dice: 2.6035\n",
      "Epoch 32/100\n",
      "\n",
      "Epoch 00032: val_loss did not improve from 1.57894\n",
      "41/41 - 59s - loss: 1.1164 - iou: 0.6663 - dice: 3.0662 - val_loss: 1.7292 - val_iou: 0.5206 - val_dice: 2.5331\n",
      "Epoch 33/100\n",
      "\n",
      "Epoch 00033: val_loss did not improve from 1.57894\n",
      "41/41 - 59s - loss: 1.2041 - iou: 0.6472 - dice: 3.0134 - val_loss: 1.5835 - val_iou: 0.5588 - val_dice: 2.6594\n",
      "Epoch 34/100\n",
      "\n",
      "Epoch 00034: val_loss did not improve from 1.57894\n",
      "41/41 - 59s - loss: 1.1322 - iou: 0.6644 - dice: 3.0623 - val_loss: 1.6056 - val_iou: 0.5564 - val_dice: 2.6722\n",
      "Epoch 35/100\n",
      "\n",
      "Epoch 00035: val_loss improved from 1.57894 to 1.52022, saving model to ./model_1.h5\n",
      "41/41 - 60s - loss: 1.0602 - iou: 0.6929 - dice: 3.1808 - val_loss: 1.5202 - val_iou: 0.5709 - val_dice: 2.7219\n",
      "Epoch 36/100\n",
      "\n",
      "Epoch 00036: val_loss did not improve from 1.52022\n",
      "41/41 - 59s - loss: 1.0960 - iou: 0.6726 - dice: 3.1055 - val_loss: 1.5714 - val_iou: 0.5579 - val_dice: 2.6574\n",
      "Epoch 37/100\n",
      "\n",
      "Epoch 00037: val_loss did not improve from 1.52022\n",
      "41/41 - 59s - loss: 1.0911 - iou: 0.6749 - dice: 3.0942 - val_loss: 1.5589 - val_iou: 0.5607 - val_dice: 2.6688\n",
      "Epoch 38/100\n",
      "\n",
      "Epoch 00038: val_loss did not improve from 1.52022\n",
      "41/41 - 59s - loss: 1.0719 - iou: 0.6813 - dice: 3.1228 - val_loss: 1.5921 - val_iou: 0.5587 - val_dice: 2.6609\n",
      "Epoch 39/100\n",
      "\n",
      "Epoch 00039: val_loss improved from 1.52022 to 1.50294, saving model to ./model_1.h5\n",
      "41/41 - 60s - loss: 1.0398 - iou: 0.6898 - dice: 3.1616 - val_loss: 1.5029 - val_iou: 0.5737 - val_dice: 2.7253\n",
      "Epoch 40/100\n",
      "\n",
      "Epoch 00040: val_loss did not improve from 1.50294\n",
      "41/41 - 59s - loss: 1.0574 - iou: 0.6820 - dice: 3.1211 - val_loss: 1.6127 - val_iou: 0.5502 - val_dice: 2.6318\n",
      "Epoch 41/100\n",
      "\n",
      "Epoch 00041: val_loss did not improve from 1.50294\n",
      "41/41 - 59s - loss: 0.9402 - iou: 0.7144 - dice: 3.2465 - val_loss: 1.5048 - val_iou: 0.5756 - val_dice: 2.7167\n",
      "Epoch 42/100\n",
      "\n",
      "Epoch 00042: val_loss did not improve from 1.50294\n",
      "41/41 - 59s - loss: 1.0946 - iou: 0.6771 - dice: 3.1064 - val_loss: 1.6513 - val_iou: 0.5483 - val_dice: 2.6121\n",
      "Epoch 43/100\n",
      "\n",
      "Epoch 00043: val_loss improved from 1.50294 to 1.48278, saving model to ./model_1.h5\n",
      "41/41 - 60s - loss: 1.0165 - iou: 0.6931 - dice: 3.1625 - val_loss: 1.4828 - val_iou: 0.5738 - val_dice: 2.7265\n"
     ]
    },
    {
     "name": "stdout",
     "output_type": "stream",
     "text": [
      "Epoch 44/100\n",
      "\n",
      "Epoch 00044: val_loss did not improve from 1.48278\n",
      "41/41 - 59s - loss: 0.9838 - iou: 0.7030 - dice: 3.1996 - val_loss: 1.5283 - val_iou: 0.5729 - val_dice: 2.7188\n",
      "Epoch 45/100\n",
      "\n",
      "Epoch 00045: val_loss did not improve from 1.48278\n",
      "41/41 - 59s - loss: 1.1022 - iou: 0.6716 - dice: 3.0885 - val_loss: 1.5718 - val_iou: 0.5627 - val_dice: 2.6861\n",
      "Epoch 46/100\n",
      "\n",
      "Epoch 00046: val_loss did not improve from 1.48278\n",
      "41/41 - 59s - loss: 1.1633 - iou: 0.6681 - dice: 3.0979 - val_loss: 2.1144 - val_iou: 0.4694 - val_dice: 2.3161\n",
      "Epoch 47/100\n",
      "\n",
      "Epoch 00047: val_loss did not improve from 1.48278\n",
      "41/41 - 59s - loss: 1.1026 - iou: 0.6749 - dice: 3.1178 - val_loss: 1.5063 - val_iou: 0.5773 - val_dice: 2.7225\n",
      "Epoch 48/100\n",
      "\n",
      "Epoch 00048: val_loss did not improve from 1.48278\n",
      "41/41 - 59s - loss: 1.0340 - iou: 0.6930 - dice: 3.1647 - val_loss: 1.7486 - val_iou: 0.5366 - val_dice: 2.5979\n",
      "Epoch 49/100\n",
      "\n",
      "Epoch 00049: val_loss did not improve from 1.48278\n",
      "41/41 - 59s - loss: 1.1781 - iou: 0.6535 - dice: 3.0242 - val_loss: 1.5481 - val_iou: 0.5637 - val_dice: 2.6689\n",
      "Epoch 50/100\n",
      "\n",
      "Epoch 00050: val_loss did not improve from 1.48278\n",
      "41/41 - 59s - loss: 0.9908 - iou: 0.7039 - dice: 3.2045 - val_loss: 1.6495 - val_iou: 0.5516 - val_dice: 2.6533\n",
      "Epoch 51/100\n",
      "\n",
      "Epoch 00051: val_loss improved from 1.48278 to 1.42618, saving model to ./model_1.h5\n",
      "41/41 - 60s - loss: 0.9833 - iou: 0.7016 - dice: 3.1929 - val_loss: 1.4262 - val_iou: 0.5908 - val_dice: 2.7716\n",
      "Epoch 52/100\n",
      "\n",
      "Epoch 00052: val_loss did not improve from 1.42618\n",
      "41/41 - 59s - loss: 1.0106 - iou: 0.6978 - dice: 3.1855 - val_loss: 1.5940 - val_iou: 0.5577 - val_dice: 2.6676\n",
      "Epoch 53/100\n",
      "\n",
      "Epoch 00053: val_loss did not improve from 1.42618\n",
      "41/41 - 59s - loss: 0.9337 - iou: 0.7170 - dice: 3.2438 - val_loss: 1.4990 - val_iou: 0.5822 - val_dice: 2.7468\n",
      "Epoch 54/100\n",
      "\n",
      "Epoch 00054: val_loss did not improve from 1.42618\n",
      "41/41 - 59s - loss: 0.9854 - iou: 0.7018 - dice: 3.1928 - val_loss: 1.5800 - val_iou: 0.5603 - val_dice: 2.6767\n",
      "Epoch 55/100\n",
      "\n",
      "Epoch 00055: val_loss did not improve from 1.42618\n",
      "41/41 - 59s - loss: 0.9735 - iou: 0.7071 - dice: 3.2274 - val_loss: 1.4498 - val_iou: 0.5833 - val_dice: 2.7531\n",
      "Epoch 56/100\n",
      "\n",
      "Epoch 00056: val_loss did not improve from 1.42618\n",
      "41/41 - 59s - loss: 0.9910 - iou: 0.7032 - dice: 3.1824 - val_loss: 1.4982 - val_iou: 0.5770 - val_dice: 2.7104\n",
      "Epoch 57/100\n",
      "\n",
      "Epoch 00057: val_loss improved from 1.42618 to 1.36719, saving model to ./model_1.h5\n",
      "41/41 - 60s - loss: 0.9247 - iou: 0.7156 - dice: 3.2447 - val_loss: 1.3672 - val_iou: 0.6024 - val_dice: 2.8317\n",
      "Epoch 58/100\n",
      "\n",
      "Epoch 00058: val_loss did not improve from 1.36719\n",
      "41/41 - 59s - loss: 0.9473 - iou: 0.7125 - dice: 3.2273 - val_loss: 1.4405 - val_iou: 0.5890 - val_dice: 2.7766\n",
      "Epoch 59/100\n",
      "\n",
      "Epoch 00059: val_loss improved from 1.36719 to 1.35499, saving model to ./model_1.h5\n",
      "41/41 - 60s - loss: 0.9772 - iou: 0.7068 - dice: 3.2059 - val_loss: 1.3550 - val_iou: 0.6079 - val_dice: 2.8498\n",
      "Epoch 60/100\n",
      "\n",
      "Epoch 00060: val_loss did not improve from 1.35499\n",
      "41/41 - 59s - loss: 0.9303 - iou: 0.7183 - dice: 3.2273 - val_loss: 1.4195 - val_iou: 0.5969 - val_dice: 2.7875\n",
      "Epoch 61/100\n",
      "\n",
      "Epoch 00061: val_loss did not improve from 1.35499\n",
      "41/41 - 59s - loss: 0.8488 - iou: 0.7385 - dice: 3.3358 - val_loss: 1.4157 - val_iou: 0.5903 - val_dice: 2.7842\n",
      "Epoch 62/100\n",
      "\n",
      "Epoch 00062: val_loss did not improve from 1.35499\n",
      "41/41 - 59s - loss: 0.9555 - iou: 0.7124 - dice: 3.2373 - val_loss: 1.4602 - val_iou: 0.5898 - val_dice: 2.7861\n",
      "Epoch 63/100\n",
      "\n",
      "Epoch 00063: val_loss did not improve from 1.35499\n",
      "41/41 - 59s - loss: 0.9694 - iou: 0.7058 - dice: 3.2293 - val_loss: 1.4299 - val_iou: 0.5935 - val_dice: 2.8107\n",
      "Epoch 64/100\n",
      "\n",
      "Epoch 00064: val_loss did not improve from 1.35499\n",
      "41/41 - 59s - loss: 0.9570 - iou: 0.7141 - dice: 3.2257 - val_loss: 1.4347 - val_iou: 0.5913 - val_dice: 2.7963\n",
      "Epoch 65/100\n",
      "\n",
      "Epoch 00065: val_loss did not improve from 1.35499\n",
      "41/41 - 67s - loss: 0.8338 - iou: 0.7396 - dice: 3.3442 - val_loss: 1.4753 - val_iou: 0.5824 - val_dice: 2.7575\n",
      "Epoch 66/100\n",
      "\n",
      "Epoch 00066: val_loss did not improve from 1.35499\n",
      "41/41 - 102s - loss: 1.1646 - iou: 0.6632 - dice: 3.0541 - val_loss: 1.4740 - val_iou: 0.5852 - val_dice: 2.7649\n",
      "Epoch 67/100\n",
      "\n",
      "Epoch 00067: val_loss did not improve from 1.35499\n",
      "41/41 - 1010s - loss: 0.9159 - iou: 0.7200 - dice: 3.2511 - val_loss: 1.4099 - val_iou: 0.5945 - val_dice: 2.7880\n",
      "Epoch 68/100\n",
      "\n",
      "Epoch 00068: val_loss did not improve from 1.35499\n",
      "41/41 - 57s - loss: 0.7860 - iou: 0.7529 - dice: 3.3754 - val_loss: 1.5014 - val_iou: 0.5784 - val_dice: 2.7144\n",
      "Epoch 69/100\n",
      "\n",
      "Epoch 00069: val_loss did not improve from 1.35499\n",
      "41/41 - 58s - loss: 0.9369 - iou: 0.7154 - dice: 3.2249 - val_loss: 1.3785 - val_iou: 0.6085 - val_dice: 2.8330\n",
      "Epoch 70/100\n",
      "\n",
      "Epoch 00070: val_loss did not improve from 1.35499\n",
      "41/41 - 58s - loss: 0.8656 - iou: 0.7365 - dice: 3.3145 - val_loss: 1.4908 - val_iou: 0.5809 - val_dice: 2.7480\n",
      "Epoch 71/100\n",
      "\n",
      "Epoch 00071: val_loss did not improve from 1.35499\n",
      "41/41 - 59s - loss: 0.9220 - iou: 0.7236 - dice: 3.2509 - val_loss: 1.4607 - val_iou: 0.5839 - val_dice: 2.7482\n",
      "Epoch 72/100\n",
      "\n",
      "Epoch 00072: val_loss did not improve from 1.35499\n",
      "41/41 - 58s - loss: 0.8776 - iou: 0.7272 - dice: 3.2788 - val_loss: 1.4746 - val_iou: 0.5836 - val_dice: 2.7502\n",
      "Epoch 73/100\n",
      "\n",
      "Epoch 00073: val_loss did not improve from 1.35499\n",
      "41/41 - 59s - loss: 0.8204 - iou: 0.7466 - dice: 3.3449 - val_loss: 1.3557 - val_iou: 0.6098 - val_dice: 2.8646\n",
      "Epoch 74/100\n",
      "\n",
      "Epoch 00074: val_loss did not improve from 1.35499\n",
      "41/41 - 59s - loss: 0.9191 - iou: 0.7195 - dice: 3.2431 - val_loss: 1.4834 - val_iou: 0.5809 - val_dice: 2.7118\n",
      "Epoch 75/100\n",
      "\n",
      "Epoch 00075: val_loss did not improve from 1.35499\n",
      "41/41 - 59s - loss: 0.7995 - iou: 0.7533 - dice: 3.3761 - val_loss: 1.3749 - val_iou: 0.6056 - val_dice: 2.8314\n",
      "Epoch 76/100\n",
      "\n",
      "Epoch 00076: val_loss did not improve from 1.35499\n",
      "41/41 - 59s - loss: 0.9552 - iou: 0.7187 - dice: 3.2412 - val_loss: 1.6297 - val_iou: 0.5595 - val_dice: 2.6735\n",
      "Epoch 77/100\n",
      "\n",
      "Epoch 00077: val_loss did not improve from 1.35499\n",
      "41/41 - 59s - loss: 0.9126 - iou: 0.7168 - dice: 3.2490 - val_loss: 1.3825 - val_iou: 0.6065 - val_dice: 2.8371\n",
      "Epoch 78/100\n",
      "\n",
      "Epoch 00078: val_loss did not improve from 1.35499\n",
      "41/41 - 59s - loss: 0.7832 - iou: 0.7591 - dice: 3.3853 - val_loss: 1.3744 - val_iou: 0.6086 - val_dice: 2.8248\n",
      "Epoch 79/100\n",
      "\n",
      "Epoch 00079: val_loss did not improve from 1.35499\n",
      "41/41 - 59s - loss: 0.8553 - iou: 0.7374 - dice: 3.3165 - val_loss: 1.4265 - val_iou: 0.5958 - val_dice: 2.7961\n",
      "Epoch 80/100\n",
      "\n",
      "Epoch 00080: val_loss improved from 1.35499 to 1.33421, saving model to ./model_1.h5\n",
      "41/41 - 59s - loss: 0.8654 - iou: 0.7335 - dice: 3.2816 - val_loss: 1.3342 - val_iou: 0.6141 - val_dice: 2.8736\n",
      "Epoch 81/100\n",
      "\n",
      "Epoch 00081: val_loss did not improve from 1.33421\n",
      "41/41 - 59s - loss: 0.8411 - iou: 0.7413 - dice: 3.3271 - val_loss: 1.4772 - val_iou: 0.5906 - val_dice: 2.7481\n",
      "Epoch 82/100\n",
      "\n",
      "Epoch 00082: val_loss did not improve from 1.33421\n",
      "41/41 - 59s - loss: 0.7969 - iou: 0.7532 - dice: 3.3611 - val_loss: 1.3844 - val_iou: 0.6042 - val_dice: 2.8294\n",
      "Epoch 83/100\n",
      "\n",
      "Epoch 00083: val_loss improved from 1.33421 to 1.28437, saving model to ./model_1.h5\n",
      "41/41 - 60s - loss: 0.9158 - iou: 0.7197 - dice: 3.2560 - val_loss: 1.2844 - val_iou: 0.6267 - val_dice: 2.9320\n",
      "Epoch 84/100\n",
      "\n",
      "Epoch 00084: val_loss did not improve from 1.28437\n",
      "41/41 - 59s - loss: 0.7910 - iou: 0.7546 - dice: 3.3653 - val_loss: 1.3936 - val_iou: 0.6037 - val_dice: 2.8060\n",
      "Epoch 85/100\n",
      "\n",
      "Epoch 00085: val_loss did not improve from 1.28437\n",
      "41/41 - 59s - loss: 0.6906 - iou: 0.7800 - dice: 3.4650 - val_loss: 1.3631 - val_iou: 0.6103 - val_dice: 2.8332\n",
      "Epoch 86/100\n",
      "\n",
      "Epoch 00086: val_loss did not improve from 1.28437\n",
      "41/41 - 59s - loss: 0.9180 - iou: 0.7228 - dice: 3.2637 - val_loss: 1.3841 - val_iou: 0.6014 - val_dice: 2.7993\n",
      "Epoch 87/100\n",
      "\n",
      "Epoch 00087: val_loss did not improve from 1.28437\n",
      "41/41 - 59s - loss: 0.8104 - iou: 0.7505 - dice: 3.3421 - val_loss: 1.3665 - val_iou: 0.6124 - val_dice: 2.8587\n",
      "Epoch 88/100\n",
      "\n",
      "Epoch 00088: val_loss did not improve from 1.28437\n",
      "41/41 - 59s - loss: 0.8181 - iou: 0.7461 - dice: 3.3307 - val_loss: 1.3581 - val_iou: 0.6077 - val_dice: 2.8134\n",
      "Epoch 89/100\n",
      "\n",
      "Epoch 00089: val_loss did not improve from 1.28437\n",
      "41/41 - 59s - loss: 0.8560 - iou: 0.7377 - dice: 3.3254 - val_loss: 1.4031 - val_iou: 0.6045 - val_dice: 2.8439\n"
     ]
    },
    {
     "name": "stdout",
     "output_type": "stream",
     "text": [
      "Epoch 90/100\n",
      "\n",
      "Epoch 00090: val_loss did not improve from 1.28437\n",
      "41/41 - 59s - loss: 0.8715 - iou: 0.7314 - dice: 3.2818 - val_loss: 1.4773 - val_iou: 0.5902 - val_dice: 2.7477\n",
      "Epoch 91/100\n",
      "\n",
      "Epoch 00091: val_loss did not improve from 1.28437\n",
      "41/41 - 59s - loss: 0.7224 - iou: 0.7737 - dice: 3.4290 - val_loss: 1.3824 - val_iou: 0.6091 - val_dice: 2.8110\n",
      "Epoch 92/100\n",
      "\n",
      "Epoch 00092: val_loss did not improve from 1.28437\n",
      "41/41 - 59s - loss: 0.8078 - iou: 0.7518 - dice: 3.3486 - val_loss: 1.3700 - val_iou: 0.6111 - val_dice: 2.8366\n",
      "Epoch 93/100\n",
      "\n",
      "Epoch 00093: val_loss did not improve from 1.28437\n",
      "41/41 - 59s - loss: 0.7749 - iou: 0.7588 - dice: 3.3710 - val_loss: 1.3984 - val_iou: 0.6087 - val_dice: 2.8205\n",
      "Epoch 94/100\n",
      "\n",
      "Epoch 00094: val_loss did not improve from 1.28437\n",
      "41/41 - 59s - loss: 0.8132 - iou: 0.7531 - dice: 3.3625 - val_loss: 1.3783 - val_iou: 0.5974 - val_dice: 2.8050\n",
      "Epoch 95/100\n",
      "\n",
      "Epoch 00095: val_loss did not improve from 1.28437\n",
      "41/41 - 59s - loss: 0.9095 - iou: 0.7262 - dice: 3.2806 - val_loss: 1.4753 - val_iou: 0.5908 - val_dice: 2.7757\n",
      "Epoch 96/100\n",
      "\n",
      "Epoch 00096: val_loss did not improve from 1.28437\n",
      "41/41 - 59s - loss: 0.7422 - iou: 0.7644 - dice: 3.4191 - val_loss: 1.4716 - val_iou: 0.5892 - val_dice: 2.7366\n",
      "Epoch 97/100\n",
      "\n",
      "Epoch 00097: val_loss did not improve from 1.28437\n",
      "41/41 - 59s - loss: 0.8358 - iou: 0.7425 - dice: 3.3078 - val_loss: 1.3642 - val_iou: 0.6116 - val_dice: 2.8590\n",
      "Epoch 98/100\n",
      "\n",
      "Epoch 00098: val_loss did not improve from 1.28437\n",
      "41/41 - 59s - loss: 0.7782 - iou: 0.7614 - dice: 3.3882 - val_loss: 1.3890 - val_iou: 0.6094 - val_dice: 2.8314\n",
      "Epoch 99/100\n",
      "\n",
      "Epoch 00099: val_loss did not improve from 1.28437\n",
      "41/41 - 59s - loss: 0.8458 - iou: 0.7407 - dice: 3.3087 - val_loss: 1.3426 - val_iou: 0.6153 - val_dice: 2.8636\n",
      "Epoch 100/100\n",
      "\n",
      "Epoch 00100: val_loss did not improve from 1.28437\n",
      "41/41 - 59s - loss: 0.7221 - iou: 0.7751 - dice: 3.4242 - val_loss: 1.3843 - val_iou: 0.6102 - val_dice: 2.8202\n"
     ]
    }
   ],
   "source": [
    "train.training(train_generator,val_generator,steps_train,steps_val,lri,epoch,size,seed)"
   ]
  },
  {
   "cell_type": "markdown",
   "metadata": {},
   "source": [
    "## Model Evaluation"
   ]
  },
  {
   "cell_type": "code",
   "execution_count": 8,
   "metadata": {},
   "outputs": [],
   "source": [
    "K.clear_session()\n",
    "tr_generator = train.msk_generator(ipath_train,cpath_train,img_id_train,tile_id_train,y_coord_train,x_coord_train, val_batch)\n",
    "vl_generator = train.msk_generator(ipath_dev,cpath_dev,img_id_dev,tile_id_dev,y_coord_dev,x_coord_dev, val_batch)\n",
    "test_generator = train.msk_generator(ipath_test,cpath_test,img_id_test,tile_id_test,y_coord_test,x_coord_test, val_batch)\n",
    "model = train.unet(size, lri)\n",
    "model.load_weights(\"./model_1.h5\")\n",
    "\n"
   ]
  },
  {
   "cell_type": "code",
   "execution_count": 9,
   "metadata": {
    "scrolled": true
   },
   "outputs": [
    {
     "name": "stdout",
     "output_type": "stream",
     "text": [
      "Metrics:  ['loss', 'iou', 'dice']\n",
      "82/82 [==============================] - 29s 348ms/step - loss: 0.8399 - iou: 0.7377 - dice: 3.3197\n",
      "27/27 [==============================] - 9s 350ms/step - loss: 1.3558 - iou: 0.6078 - dice: 2.8403\n",
      "27/27 [==============================] - 10s 352ms/step - loss: 1.3383 - iou: 0.6100 - dice: 2.7695\n"
     ]
    }
   ],
   "source": [
    "print('Metrics: ', model.metrics_names)  \n",
    "l,iou,dice = model.evaluate(train_generator, verbose=1, steps=len(x_coord_train)//(val_batch))\n",
    "\n",
    "l,iou,dice = model.evaluate(val_generator, verbose=1, steps=len(x_coord_dev)//(val_batch))\n",
    "\n",
    "l,iou,dice = model.evaluate(test_generator, verbose=1, steps=len(x_coord_test)//(val_batch))\n",
    "\n",
    "   \n",
    "K.clear_session()\n",
    "del model \n"
   ]
  },
  {
   "cell_type": "markdown",
   "metadata": {},
   "source": [
    "## Prediction on Test Image"
   ]
  },
  {
   "cell_type": "code",
   "execution_count": 10,
   "metadata": {},
   "outputs": [
    {
     "name": "stdout",
     "output_type": "stream",
     "text": [
      "predicting\n",
      " 21 / 21 adjusted height\n",
      "adjusted width\n",
      "(5490, 5490)\n",
      "0: 22075322, 1: 1737760, 2: 4936424, 3: 1390594\n",
      "predicting\n",
      " 20 / 20 adjusted height\n",
      "adjusted width\n",
      "predicting\n",
      " 21 / 21 adjusted height\n",
      "adjusted width\n",
      "predicting\n",
      " 20 / 20 adjusted height\n",
      "adjusted width\n",
      "0: 22077680, 1: 1751146, 2: 4928677, 3: 1382597\n",
      "image 1 saved\n"
     ]
    }
   ],
   "source": [
    "K.clear_session()\n",
    "folder = \"./images/test/img\"\n",
    "mpath = \"./model_1.h5\"\n",
    "model = train.unet(size, lri)\n",
    "model.load_weights(mpath)\n",
    "\n",
    "flist = utils.get_all_images(folder, \"tif\")\n",
    "predict.predict_all_images(flist,model,val_batch//2,False)\n",
    "\n",
    "K.clear_session()\n",
    "del model\n"
   ]
  },
  {
   "cell_type": "markdown",
   "metadata": {},
   "source": [
    "## Visualize Predicted Mask"
   ]
  },
  {
   "cell_type": "code",
   "execution_count": 11,
   "metadata": {
    "scrolled": true
   },
   "outputs": [
    {
     "name": "stdout",
     "output_type": "stream",
     "text": [
      "(5490, 5490)\n"
     ]
    },
    {
     "data": {
      "image/png": "[encoded data removed]",
      "text/plain": [
       "<Figure size 432x288 with 1 Axes>"
      ]
     },
     "metadata": {
      "needs_background": "light"
     },
     "output_type": "display_data"
    }
   ],
   "source": [
    "pred = cv.imread(\"./predictions/prediction_1.tif\",-1)\n",
    "print(pred.shape)\n",
    "plt.imshow(pred)\n",
    "plt.show()"
   ]
  },
  {
   "cell_type": "code",
   "execution_count": 12,
   "metadata": {},
   "outputs": [
    {
     "data": {
      "text/plain": [
       "(5490, 5490, 1)"
      ]
     },
     "execution_count": 12,
     "metadata": {},
     "output_type": "execute_result"
    }
   ],
   "source": [
    "pred1 = np.expand_dims(pred,axis =-1)\n",
    "pred1.shape"
   ]
  },
  {
   "cell_type": "code",
   "execution_count": 17,
   "metadata": {},
   "outputs": [
    {
     "name": "stdout",
     "output_type": "stream",
     "text": [
      "class: 0, count: 22077680\n",
      "class: 1, count: 1751146\n",
      "class: 2, count: 4928677\n",
      "class: 3, count: 1382597\n"
     ]
    }
   ],
   "source": [
    "for s in set(pred.ravel()):\n",
    "    if s != 0:\n",
    "        print(\"class: {}, count: {}\".format(s,np.sum(pred[pred==s])//s))\n",
    "    else:\n",
    "        print(\"class: {}, count: {}\".format(s,np.sum(pred[pred==s]+1)))"
   ]
  },
  {
   "cell_type": "markdown",
   "metadata": {},
   "source": [
    "## Visualize Mask in RGB"
   ]
  },
  {
   "cell_type": "markdown",
   "metadata": {},
   "source": [
    "Predicted mask is converted in to 3 band RGB image for easy visualization. Following color scheme is used\n",
    "Red - Vegetation,\n",
    "Green - Water,\n",
    "Yellow - Builtup, \n",
    "Blue - Ground"
   ]
  },
  {
   "cell_type": "code",
   "execution_count": 14,
   "metadata": {},
   "outputs": [
    {
     "data": {
      "text/plain": [
       "True"
      ]
     },
     "execution_count": 14,
     "metadata": {},
     "output_type": "execute_result"
    }
   ],
   "source": [
    "pred1 = to_categorical(pred,4)\n",
    "pred1[:,:,0] +=pred1[:,:,-1]\n",
    "pred1[:,:,1] +=pred1[:,:,-1]\n",
    "pred1 = 255 * pred1[:,:,:-1]\n",
    "pred1 = cv.cvtColor(pred1, cv.COLOR_RGB2BGR)\n",
    "cv.imwrite(\"./prediction_1-rgb.tif\",pred1.astype(np.uint8))"
   ]
  },
  {
   "cell_type": "code",
   "execution_count": 15,
   "metadata": {
    "scrolled": true
   },
   "outputs": [
    {
     "data": {
      "image/png": "[encoded data removed]",
      "text/plain": [
       "<Figure size 432x288 with 1 Axes>"
      ]
     },
     "metadata": {
      "needs_background": "light"
     },
     "output_type": "display_data"
    }
   ],
   "source": [
    "pred_bgr = cv.imread(\"./prediction_1-rgb.tif\")\n",
    "pred_rgb = cv.cvtColor(pred_bgr, cv.COLOR_BGR2RGB)\n",
    "plt.imshow(pred_rgb)\n",
    "plt.show()"
   ]
  },
  {
   "cell_type": "code",
   "execution_count": null,
   "metadata": {},
   "outputs": [],
   "source": []
  },
  {
   "cell_type": "code",
   "execution_count": null,
   "metadata": {},
   "outputs": [],
   "source": []
  }
 ],
 "metadata": {
  "kernelspec": {
   "display_name": "Python 3",
   "language": "python",
   "name": "python3"
  },
  "language_info": {
   "codemirror_mode": {
    "name": "ipython",
    "version": 3
   },
   "file_extension": ".py",
   "mimetype": "text/x-python",
   "name": "python",
   "nbconvert_exporter": "python",
   "pygments_lexer": "ipython3",
   "version": "3.6.7"
  }
 },
 "nbformat": 4,
 "nbformat_minor": 2
}
